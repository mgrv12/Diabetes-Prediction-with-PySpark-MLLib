{
  "nbformat": 4,
  "nbformat_minor": 0,
  "metadata": {
    "colab": {
      "name": "Diabetes_Prediction.ipynb",
      "provenance": [],
      "collapsed_sections": []
    },
    "kernelspec": {
      "name": "python3",
      "display_name": "Python 3"
    }
  },
  "cells": [
    {
      "cell_type": "code",
      "metadata": {
        "id": "NpCRBcqtN5lH",
        "colab": {
          "base_uri": "https://localhost:8080/"
        },
        "outputId": "5967a328-2a42-4ff5-a4d8-52cb6c826f00"
      },
      "source": [
        "#install pyspark\n",
        "! pip install pyspark\n"
      ],
      "execution_count": 1,
      "outputs": [
        {
          "output_type": "stream",
          "name": "stdout",
          "text": [
            "Collecting pyspark\n",
            "  Downloading pyspark-3.1.2.tar.gz (212.4 MB)\n",
            "\u001b[K     |████████████████████████████████| 212.4 MB 62 kB/s \n",
            "\u001b[?25hCollecting py4j==0.10.9\n",
            "  Downloading py4j-0.10.9-py2.py3-none-any.whl (198 kB)\n",
            "\u001b[K     |████████████████████████████████| 198 kB 68.2 MB/s \n",
            "\u001b[?25hBuilding wheels for collected packages: pyspark\n",
            "  Building wheel for pyspark (setup.py) ... \u001b[?25l\u001b[?25hdone\n",
            "  Created wheel for pyspark: filename=pyspark-3.1.2-py2.py3-none-any.whl size=212880768 sha256=683f29cc28850839988235ccf5628e58313994bf8e3aa2138382480ed5e3f350\n",
            "  Stored in directory: /root/.cache/pip/wheels/a5/0a/c1/9561f6fecb759579a7d863dcd846daaa95f598744e71b02c77\n",
            "Successfully built pyspark\n",
            "Installing collected packages: py4j, pyspark\n",
            "Successfully installed py4j-0.10.9 pyspark-3.1.2\n"
          ]
        }
      ]
    },
    {
      "cell_type": "code",
      "metadata": {
        "id": "GNZoOuDqOdxX"
      },
      "source": [
        "#create a sparksession\n",
        "from pyspark.sql import SparkSession\n",
        "spark = SparkSession.builder.appName(\"spark\").getOrCreate()"
      ],
      "execution_count": 2,
      "outputs": []
    },
    {
      "cell_type": "code",
      "metadata": {
        "id": "-Uh5H7_KOoSL",
        "colab": {
          "base_uri": "https://localhost:8080/"
        },
        "outputId": "5dba639d-4197-4fe7-fa7c-7a91b1b9dc52"
      },
      "source": [
        "#clone the diabetes dataset from the github repository\n",
        "! git clone https://github.com/education454/diabetes_dataset"
      ],
      "execution_count": 3,
      "outputs": [
        {
          "output_type": "stream",
          "name": "stdout",
          "text": [
            "Cloning into 'diabetes_dataset'...\n",
            "remote: Enumerating objects: 6, done.\u001b[K\n",
            "remote: Counting objects: 100% (6/6), done.\u001b[K\n",
            "remote: Compressing objects: 100% (5/5), done.\u001b[K\n",
            "remote: Total 6 (delta 0), reused 0 (delta 0), pack-reused 0\u001b[K\n",
            "Unpacking objects: 100% (6/6), done.\n"
          ]
        }
      ]
    },
    {
      "cell_type": "code",
      "metadata": {
        "id": "VcqwJRxVOutr",
        "colab": {
          "base_uri": "https://localhost:8080/"
        },
        "outputId": "d52c0f96-884d-4f88-ef1c-207d904ee982"
      },
      "source": [
        "#check if the dataset exists\n",
        "! ls diabetes_dataset"
      ],
      "execution_count": 4,
      "outputs": [
        {
          "output_type": "stream",
          "name": "stdout",
          "text": [
            "diabetes.csv  new_test.csv\n"
          ]
        }
      ]
    },
    {
      "cell_type": "code",
      "metadata": {
        "id": "ST1rFFOlOu8s"
      },
      "source": [
        "#create spark dataframe\n",
        "df = spark.read.csv('/content/diabetes_dataset/diabetes.csv', header=True, inferSchema = True)"
      ],
      "execution_count": 5,
      "outputs": []
    },
    {
      "cell_type": "code",
      "metadata": {
        "id": "IiJm-pmROvKd",
        "colab": {
          "base_uri": "https://localhost:8080/"
        },
        "outputId": "89ea5c40-f946-4b96-fb4f-33a958f8b73e"
      },
      "source": [
        "#display the dataframe\n",
        "df.show()"
      ],
      "execution_count": 6,
      "outputs": [
        {
          "output_type": "stream",
          "name": "stdout",
          "text": [
            "+-----------+-------+-------------+-------------+-------+----+------------------------+---+-------+\n",
            "|Pregnancies|Glucose|BloodPressure|SkinThickness|Insulin| BMI|DiabetesPedigreeFunction|Age|Outcome|\n",
            "+-----------+-------+-------------+-------------+-------+----+------------------------+---+-------+\n",
            "|          2|    138|           62|           35|      0|33.6|                   0.127| 47|      1|\n",
            "|          0|     84|           82|           31|    125|38.2|                   0.233| 23|      0|\n",
            "|          0|    145|            0|            0|      0|44.2|                    0.63| 31|      1|\n",
            "|          0|    135|           68|           42|    250|42.3|                   0.365| 24|      1|\n",
            "|          1|    139|           62|           41|    480|40.7|                   0.536| 21|      0|\n",
            "|          0|    173|           78|           32|    265|46.5|                   1.159| 58|      0|\n",
            "|          4|     99|           72|           17|      0|25.6|                   0.294| 28|      0|\n",
            "|          8|    194|           80|            0|      0|26.1|                   0.551| 67|      0|\n",
            "|          2|     83|           65|           28|     66|36.8|                   0.629| 24|      0|\n",
            "|          2|     89|           90|           30|      0|33.5|                   0.292| 42|      0|\n",
            "|          4|     99|           68|           38|      0|32.8|                   0.145| 33|      0|\n",
            "|          4|    125|           70|           18|    122|28.9|                   1.144| 45|      1|\n",
            "|          3|     80|            0|            0|      0| 0.0|                   0.174| 22|      0|\n",
            "|          6|    166|           74|            0|      0|26.6|                   0.304| 66|      0|\n",
            "|          5|    110|           68|            0|      0|26.0|                   0.292| 30|      0|\n",
            "|          2|     81|           72|           15|     76|30.1|                   0.547| 25|      0|\n",
            "|          7|    195|           70|           33|    145|25.1|                   0.163| 55|      1|\n",
            "|          6|    154|           74|           32|    193|29.3|                   0.839| 39|      0|\n",
            "|          2|    117|           90|           19|     71|25.2|                   0.313| 21|      0|\n",
            "|          3|     84|           72|           32|      0|37.2|                   0.267| 28|      0|\n",
            "+-----------+-------+-------------+-------------+-------+----+------------------------+---+-------+\n",
            "only showing top 20 rows\n",
            "\n"
          ]
        }
      ]
    },
    {
      "cell_type": "code",
      "metadata": {
        "id": "Ulqkuz8aOvV6",
        "colab": {
          "base_uri": "https://localhost:8080/"
        },
        "outputId": "cc9a6324-4532-4147-9e38-3d16b8681515"
      },
      "source": [
        "#print the schema\n",
        "df.printSchema()"
      ],
      "execution_count": 7,
      "outputs": [
        {
          "output_type": "stream",
          "name": "stdout",
          "text": [
            "root\n",
            " |-- Pregnancies: integer (nullable = true)\n",
            " |-- Glucose: integer (nullable = true)\n",
            " |-- BloodPressure: integer (nullable = true)\n",
            " |-- SkinThickness: integer (nullable = true)\n",
            " |-- Insulin: integer (nullable = true)\n",
            " |-- BMI: double (nullable = true)\n",
            " |-- DiabetesPedigreeFunction: double (nullable = true)\n",
            " |-- Age: integer (nullable = true)\n",
            " |-- Outcome: integer (nullable = true)\n",
            "\n"
          ]
        }
      ]
    },
    {
      "cell_type": "code",
      "metadata": {
        "id": "kpZlF2S2Ovgw",
        "colab": {
          "base_uri": "https://localhost:8080/"
        },
        "outputId": "436a4e98-0696-4f9c-835a-438f347ad546"
      },
      "source": [
        "#count the total no. of diabetic and non-diabetic class\n",
        "print(df.count(), len(df.columns))\n",
        "df.groupBy('Outcome').count().show()"
      ],
      "execution_count": 10,
      "outputs": [
        {
          "output_type": "stream",
          "name": "stdout",
          "text": [
            "2000 9\n",
            "+-------+-----+\n",
            "|Outcome|count|\n",
            "+-------+-----+\n",
            "|      1|  684|\n",
            "|      0| 1316|\n",
            "+-------+-----+\n",
            "\n"
          ]
        }
      ]
    },
    {
      "cell_type": "code",
      "metadata": {
        "id": "NewCNZEMOvtM",
        "colab": {
          "base_uri": "https://localhost:8080/"
        },
        "outputId": "6c1ebe0f-69b4-4115-e210-cc2632120cff"
      },
      "source": [
        "#get the summary statistics\n",
        "df.describe().show()"
      ],
      "execution_count": 12,
      "outputs": [
        {
          "output_type": "stream",
          "name": "stdout",
          "text": [
            "+-------+-----------------+------------------+------------------+-----------------+-----------------+------------------+------------------------+------------------+------------------+\n",
            "|summary|      Pregnancies|           Glucose|     BloodPressure|    SkinThickness|          Insulin|               BMI|DiabetesPedigreeFunction|               Age|           Outcome|\n",
            "+-------+-----------------+------------------+------------------+-----------------+-----------------+------------------+------------------------+------------------+------------------+\n",
            "|  count|             2000|              2000|              2000|             2000|             2000|              2000|                    2000|              2000|              2000|\n",
            "|   mean|           3.7035|          121.1825|           69.1455|           20.935|           80.254|32.192999999999984|     0.47092999999999974|           33.0905|             0.342|\n",
            "| stddev|3.306063032730656|32.068635649902916|19.188314815604098|16.10324290992682|111.1805335457595| 8.149900701279762|      0.3235525586811429|11.786423106049496|0.4744982342297426|\n",
            "|    min|                0|                 0|                 0|                0|                0|               0.0|                   0.078|                21|                 0|\n",
            "|    max|               17|               199|               122|              110|              744|              80.6|                    2.42|                81|                 1|\n",
            "+-------+-----------------+------------------+------------------+-----------------+-----------------+------------------+------------------------+------------------+------------------+\n",
            "\n"
          ]
        }
      ]
    },
    {
      "cell_type": "code",
      "metadata": {
        "id": "Q-KkJvV_PFFU",
        "colab": {
          "base_uri": "https://localhost:8080/"
        },
        "outputId": "9536c2a0-fc09-4386-850a-7613748af50b"
      },
      "source": [
        "#check for null values\n",
        "for col in df.columns:\n",
        "  print(col+\":\",df[df[col].isNull()].count())"
      ],
      "execution_count": 13,
      "outputs": [
        {
          "output_type": "stream",
          "name": "stdout",
          "text": [
            "Pregnancies: 0\n",
            "Glucose: 0\n",
            "BloodPressure: 0\n",
            "SkinThickness: 0\n",
            "Insulin: 0\n",
            "BMI: 0\n",
            "DiabetesPedigreeFunction: 0\n",
            "Age: 0\n",
            "Outcome: 0\n"
          ]
        }
      ]
    },
    {
      "cell_type": "code",
      "metadata": {
        "id": "ZJsbgwZMPFQC"
      },
      "source": [
        "#look for the unnecessary values present\n",
        "def count_zeros():\n",
        "  columns_list = ['Glucose','BloodPressure','SkinThickness','Insulin','BMI']\n",
        "  for i in columns_list:\n",
        "    print(i+\":\",df[df[i]==0].count())"
      ],
      "execution_count": 14,
      "outputs": []
    },
    {
      "cell_type": "code",
      "metadata": {
        "id": "pcXTErb9PFbo",
        "colab": {
          "base_uri": "https://localhost:8080/"
        },
        "outputId": "ecefb0ba-d5ea-49c9-e3dd-a20767a05960"
      },
      "source": [
        "count_zeros()"
      ],
      "execution_count": 15,
      "outputs": [
        {
          "output_type": "stream",
          "name": "stdout",
          "text": [
            "Glucose: 13\n",
            "BloodPressure: 90\n",
            "SkinThickness: 573\n",
            "Insulin: 956\n",
            "BMI: 28\n"
          ]
        }
      ]
    },
    {
      "cell_type": "code",
      "metadata": {
        "id": "VXemdtaPPFmA",
        "colab": {
          "base_uri": "https://localhost:8080/"
        },
        "outputId": "1cca00bc-f9cb-402c-fbf9-1618da43e86d"
      },
      "source": [
        "#calculate and replace the unnecessary values by the mean value\n",
        "from pyspark.sql.functions import *\n",
        "for i in df.columns[1:6]:\n",
        "  data = df.agg({i:'mean'}).first()[0]\n",
        "  print(\"mean value for {} is {}\".format(i,int(data)))\n",
        "  df = df.withColumn(i,when(df[i]==0,int(data)).otherwise(df[i]))"
      ],
      "execution_count": 17,
      "outputs": [
        {
          "output_type": "stream",
          "name": "stdout",
          "text": [
            "mean value for Glucose is 121\n",
            "mean value for BloodPressure is 69\n",
            "mean value for SkinThickness is 20\n",
            "mean value for Insulin is 80\n",
            "mean value for BMI is 32\n"
          ]
        }
      ]
    },
    {
      "cell_type": "code",
      "metadata": {
        "id": "C0bk0Ps_PFwk",
        "colab": {
          "base_uri": "https://localhost:8080/"
        },
        "outputId": "16890c91-4dd8-4c76-b73a-fa179d2dab9a"
      },
      "source": [
        "#display the dataframe \n",
        "df.show()"
      ],
      "execution_count": 18,
      "outputs": [
        {
          "output_type": "stream",
          "name": "stdout",
          "text": [
            "+-----------+-------+-------------+-------------+-------+----+------------------------+---+-------+\n",
            "|Pregnancies|Glucose|BloodPressure|SkinThickness|Insulin| BMI|DiabetesPedigreeFunction|Age|Outcome|\n",
            "+-----------+-------+-------------+-------------+-------+----+------------------------+---+-------+\n",
            "|          2|    138|           62|           35|     80|33.6|                   0.127| 47|      1|\n",
            "|          0|     84|           82|           31|    125|38.2|                   0.233| 23|      0|\n",
            "|          0|    145|           69|           20|     80|44.2|                    0.63| 31|      1|\n",
            "|          0|    135|           68|           42|    250|42.3|                   0.365| 24|      1|\n",
            "|          1|    139|           62|           41|    480|40.7|                   0.536| 21|      0|\n",
            "|          0|    173|           78|           32|    265|46.5|                   1.159| 58|      0|\n",
            "|          4|     99|           72|           17|     80|25.6|                   0.294| 28|      0|\n",
            "|          8|    194|           80|           20|     80|26.1|                   0.551| 67|      0|\n",
            "|          2|     83|           65|           28|     66|36.8|                   0.629| 24|      0|\n",
            "|          2|     89|           90|           30|     80|33.5|                   0.292| 42|      0|\n",
            "|          4|     99|           68|           38|     80|32.8|                   0.145| 33|      0|\n",
            "|          4|    125|           70|           18|    122|28.9|                   1.144| 45|      1|\n",
            "|          3|     80|           69|           20|     80|32.0|                   0.174| 22|      0|\n",
            "|          6|    166|           74|           20|     80|26.6|                   0.304| 66|      0|\n",
            "|          5|    110|           68|           20|     80|26.0|                   0.292| 30|      0|\n",
            "|          2|     81|           72|           15|     76|30.1|                   0.547| 25|      0|\n",
            "|          7|    195|           70|           33|    145|25.1|                   0.163| 55|      1|\n",
            "|          6|    154|           74|           32|    193|29.3|                   0.839| 39|      0|\n",
            "|          2|    117|           90|           19|     71|25.2|                   0.313| 21|      0|\n",
            "|          3|     84|           72|           32|     80|37.2|                   0.267| 28|      0|\n",
            "+-----------+-------+-------------+-------------+-------+----+------------------------+---+-------+\n",
            "only showing top 20 rows\n",
            "\n"
          ]
        }
      ]
    },
    {
      "cell_type": "code",
      "metadata": {
        "id": "7Eq6jdcFP_3C",
        "colab": {
          "base_uri": "https://localhost:8080/"
        },
        "outputId": "9cbeaac8-c3a3-4599-cefd-b491406bb3e1"
      },
      "source": [
        "#find the correlation among the set of input & output variables\n",
        "for i in df.columns:\n",
        "  print(\"Correlation to outcome for {} is {}\".format(i,df.stat.corr('Outcome',i)))"
      ],
      "execution_count": 23,
      "outputs": [
        {
          "output_type": "stream",
          "name": "stdout",
          "text": [
            "Correlation to outcome for Pregnancies is 0.22443699263363961\n",
            "Correlation to outcome for Glucose is 0.48796646527321064\n",
            "Correlation to outcome for BloodPressure is 0.17171333286446713\n",
            "Correlation to outcome for SkinThickness is 0.1659010662889893\n",
            "Correlation to outcome for Insulin is 0.1711763270226193\n",
            "Correlation to outcome for BMI is 0.2827927569760082\n",
            "Correlation to outcome for DiabetesPedigreeFunction is 0.1554590791569403\n",
            "Correlation to outcome for Age is 0.23650924717620253\n",
            "Correlation to outcome for Outcome is 1.0\n"
          ]
        }
      ]
    },
    {
      "cell_type": "code",
      "metadata": {
        "id": "Fl7Edj-OQACn"
      },
      "source": [
        "#feature selection\n",
        "from pyspark.ml.feature import VectorAssembler\n",
        "assembler = VectorAssembler(inputCols=['Pregnancies','Glucose','BloodPressure','SkinThickness','Insulin','BMI','DiabetesPedigreeFunction','Age'],outputCol='features')\n",
        "output_data = assembler.transform(df)"
      ],
      "execution_count": 26,
      "outputs": []
    },
    {
      "cell_type": "code",
      "metadata": {
        "id": "mJKrfqdaQAOy",
        "colab": {
          "base_uri": "https://localhost:8080/"
        },
        "outputId": "2f537860-0f02-486b-a601-f638628cbe14"
      },
      "source": [
        "#print the schema\n",
        "output_data.printSchema()"
      ],
      "execution_count": 27,
      "outputs": [
        {
          "output_type": "stream",
          "name": "stdout",
          "text": [
            "root\n",
            " |-- Pregnancies: integer (nullable = true)\n",
            " |-- Glucose: integer (nullable = true)\n",
            " |-- BloodPressure: integer (nullable = true)\n",
            " |-- SkinThickness: integer (nullable = true)\n",
            " |-- Insulin: integer (nullable = true)\n",
            " |-- BMI: double (nullable = true)\n",
            " |-- DiabetesPedigreeFunction: double (nullable = true)\n",
            " |-- Age: integer (nullable = true)\n",
            " |-- Outcome: integer (nullable = true)\n",
            " |-- features: vector (nullable = true)\n",
            "\n"
          ]
        }
      ]
    },
    {
      "cell_type": "code",
      "metadata": {
        "id": "FURl7qESQAaQ",
        "colab": {
          "base_uri": "https://localhost:8080/"
        },
        "outputId": "09c03bfa-bff6-4f13-ffc1-e14fa394755d"
      },
      "source": [
        "#display dataframe\n",
        "output_data.show()"
      ],
      "execution_count": 29,
      "outputs": [
        {
          "output_type": "stream",
          "name": "stdout",
          "text": [
            "+-----------+-------+-------------+-------------+-------+----+------------------------+---+-------+--------------------+\n",
            "|Pregnancies|Glucose|BloodPressure|SkinThickness|Insulin| BMI|DiabetesPedigreeFunction|Age|Outcome|            features|\n",
            "+-----------+-------+-------------+-------------+-------+----+------------------------+---+-------+--------------------+\n",
            "|          2|    138|           62|           35|     80|33.6|                   0.127| 47|      1|[2.0,138.0,62.0,3...|\n",
            "|          0|     84|           82|           31|    125|38.2|                   0.233| 23|      0|[0.0,84.0,82.0,31...|\n",
            "|          0|    145|           69|           20|     80|44.2|                    0.63| 31|      1|[0.0,145.0,69.0,2...|\n",
            "|          0|    135|           68|           42|    250|42.3|                   0.365| 24|      1|[0.0,135.0,68.0,4...|\n",
            "|          1|    139|           62|           41|    480|40.7|                   0.536| 21|      0|[1.0,139.0,62.0,4...|\n",
            "|          0|    173|           78|           32|    265|46.5|                   1.159| 58|      0|[0.0,173.0,78.0,3...|\n",
            "|          4|     99|           72|           17|     80|25.6|                   0.294| 28|      0|[4.0,99.0,72.0,17...|\n",
            "|          8|    194|           80|           20|     80|26.1|                   0.551| 67|      0|[8.0,194.0,80.0,2...|\n",
            "|          2|     83|           65|           28|     66|36.8|                   0.629| 24|      0|[2.0,83.0,65.0,28...|\n",
            "|          2|     89|           90|           30|     80|33.5|                   0.292| 42|      0|[2.0,89.0,90.0,30...|\n",
            "|          4|     99|           68|           38|     80|32.8|                   0.145| 33|      0|[4.0,99.0,68.0,38...|\n",
            "|          4|    125|           70|           18|    122|28.9|                   1.144| 45|      1|[4.0,125.0,70.0,1...|\n",
            "|          3|     80|           69|           20|     80|32.0|                   0.174| 22|      0|[3.0,80.0,69.0,20...|\n",
            "|          6|    166|           74|           20|     80|26.6|                   0.304| 66|      0|[6.0,166.0,74.0,2...|\n",
            "|          5|    110|           68|           20|     80|26.0|                   0.292| 30|      0|[5.0,110.0,68.0,2...|\n",
            "|          2|     81|           72|           15|     76|30.1|                   0.547| 25|      0|[2.0,81.0,72.0,15...|\n",
            "|          7|    195|           70|           33|    145|25.1|                   0.163| 55|      1|[7.0,195.0,70.0,3...|\n",
            "|          6|    154|           74|           32|    193|29.3|                   0.839| 39|      0|[6.0,154.0,74.0,3...|\n",
            "|          2|    117|           90|           19|     71|25.2|                   0.313| 21|      0|[2.0,117.0,90.0,1...|\n",
            "|          3|     84|           72|           32|     80|37.2|                   0.267| 28|      0|[3.0,84.0,72.0,32...|\n",
            "+-----------+-------+-------------+-------------+-------+----+------------------------+---+-------+--------------------+\n",
            "only showing top 20 rows\n",
            "\n"
          ]
        }
      ]
    },
    {
      "cell_type": "code",
      "metadata": {
        "id": "F89--FiVQQJn"
      },
      "source": [
        "#create final data\n",
        "from pyspark.ml.classification import LogisticRegression\n",
        "final_data = output_data.select('features','Outcome')"
      ],
      "execution_count": 34,
      "outputs": []
    },
    {
      "cell_type": "code",
      "metadata": {
        "id": "cKpm5912Qji_",
        "colab": {
          "base_uri": "https://localhost:8080/"
        },
        "outputId": "3d2c9250-f6f6-4251-9d07-59e983efa274"
      },
      "source": [
        "#print schema of final data\n",
        "final_data.printSchema()"
      ],
      "execution_count": 35,
      "outputs": [
        {
          "output_type": "stream",
          "name": "stdout",
          "text": [
            "root\n",
            " |-- features: vector (nullable = true)\n",
            " |-- Outcome: integer (nullable = true)\n",
            "\n"
          ]
        }
      ]
    },
    {
      "cell_type": "code",
      "metadata": {
        "id": "r_Nom7aZQjuN"
      },
      "source": [
        "#split the dataset ; build the model\n",
        "train, test = final_data.randomSplit([0.7,0.3])\n",
        "models = LogisticRegression(labelCol='Outcome')\n",
        "model = models.fit(train)"
      ],
      "execution_count": 36,
      "outputs": []
    },
    {
      "cell_type": "code",
      "metadata": {
        "id": "OljO2HcIQj7E",
        "colab": {
          "base_uri": "https://localhost:8080/"
        },
        "outputId": "c723a7b9-5d89-4d64-e7ac-01fc8846eacd"
      },
      "source": [
        "#summary of the model\n",
        "summary = model.summary\n",
        "summary.predictions.describe().show()"
      ],
      "execution_count": 38,
      "outputs": [
        {
          "output_type": "stream",
          "name": "stdout",
          "text": [
            "+-------+------------------+-------------------+\n",
            "|summary|           Outcome|         prediction|\n",
            "+-------+------------------+-------------------+\n",
            "|  count|              1434|               1434|\n",
            "|   mean|0.3493723849372385|0.26359832635983266|\n",
            "| stddev|0.4769380963651787| 0.4407376870067605|\n",
            "|    min|               0.0|                0.0|\n",
            "|    max|               1.0|                1.0|\n",
            "+-------+------------------+-------------------+\n",
            "\n"
          ]
        }
      ]
    },
    {
      "cell_type": "code",
      "metadata": {
        "id": "CHC5Erq7Q4QN"
      },
      "source": [
        "from pyspark.ml.evaluation import BinaryClassificationEvaluator\n",
        "predictions = model.evaluate(test)"
      ],
      "execution_count": 39,
      "outputs": []
    },
    {
      "cell_type": "code",
      "metadata": {
        "id": "UBltVqoNQ4cM",
        "colab": {
          "base_uri": "https://localhost:8080/"
        },
        "outputId": "61faf9e1-0c94-4b89-a7c0-3971dc7156e7"
      },
      "source": [
        "predictions.predictions.show(20)"
      ],
      "execution_count": 40,
      "outputs": [
        {
          "output_type": "stream",
          "name": "stdout",
          "text": [
            "+--------------------+-------+--------------------+--------------------+----------+\n",
            "|            features|Outcome|       rawPrediction|         probability|prediction|\n",
            "+--------------------+-------+--------------------+--------------------+----------+\n",
            "|[0.0,57.0,60.0,20...|      0|[3.85745981248752...|[0.97931530921733...|       0.0|\n",
            "|[0.0,57.0,60.0,20...|      0|[3.85745981248752...|[0.97931530921733...|       0.0|\n",
            "|[0.0,74.0,52.0,10...|      0|[3.34584940134969...|[0.96596865590680...|       0.0|\n",
            "|[0.0,74.0,52.0,10...|      0|[3.34584940134969...|[0.96596865590680...|       0.0|\n",
            "|[0.0,78.0,88.0,29...|      0|[2.47160341156552...|[0.92212698190812...|       0.0|\n",
            "|[0.0,84.0,64.0,22...|      0|[2.23690014987487...|[0.90351456357393...|       0.0|\n",
            "|[0.0,84.0,82.0,31...|      0|[2.43677531280464...|[0.91958896039919...|       0.0|\n",
            "|[0.0,84.0,82.0,31...|      0|[2.43677531280464...|[0.91958896039919...|       0.0|\n",
            "|[0.0,84.0,82.0,31...|      0|[2.43677531280464...|[0.91958896039919...|       0.0|\n",
            "|[0.0,91.0,68.0,32...|      0|[2.03726486559540...|[0.88465446575987...|       0.0|\n",
            "|[0.0,91.0,80.0,20...|      0|[2.18793754344050...|[0.89916105646037...|       0.0|\n",
            "|[0.0,91.0,80.0,20...|      0|[2.18793754344050...|[0.89916105646037...|       0.0|\n",
            "|[0.0,93.0,60.0,20...|      0|[2.15861564489296...|[0.89647113616130...|       0.0|\n",
            "|[0.0,93.0,60.0,25...|      0|[2.59616976815533...|[0.93061466526879...|       0.0|\n",
            "|[0.0,93.0,100.0,3...|      0|[0.91491181428951...|[0.71400421940158...|       0.0|\n",
            "|[0.0,94.0,69.0,20...|      0|[2.41410742484410...|[0.91789675865625...|       0.0|\n",
            "|[0.0,94.0,69.0,20...|      0|[2.41410742484410...|[0.91789675865625...|       0.0|\n",
            "|[0.0,94.0,69.0,20...|      0|[2.41410742484410...|[0.91789675865625...|       0.0|\n",
            "|[0.0,94.0,70.0,27...|      0|[1.49771178008419...|[0.81723294827907...|       0.0|\n",
            "|[0.0,94.0,70.0,27...|      0|[1.49771178008419...|[0.81723294827907...|       0.0|\n",
            "+--------------------+-------+--------------------+--------------------+----------+\n",
            "only showing top 20 rows\n",
            "\n"
          ]
        }
      ]
    },
    {
      "cell_type": "code",
      "metadata": {
        "id": "A4BHCxCiQ4l-",
        "colab": {
          "base_uri": "https://localhost:8080/"
        },
        "outputId": "3710e2d0-3134-4dd4-80e7-9acaac3b0e8b"
      },
      "source": [
        "evaluator = BinaryClassificationEvaluator(rawPredictionCol='rawPrediction',labelCol='Outcome')\n",
        "print('Model Accuracy:',format(evaluator.evaluate(model.transform(test))))"
      ],
      "execution_count": 44,
      "outputs": [
        {
          "output_type": "stream",
          "name": "stdout",
          "text": [
            "Model Accuracy: 0.8674399691820399\n"
          ]
        }
      ]
    },
    {
      "cell_type": "code",
      "metadata": {
        "id": "ERpRUFOHQ4x5"
      },
      "source": [
        "# save model\n",
        "model.save('model')"
      ],
      "execution_count": 45,
      "outputs": []
    },
    {
      "cell_type": "code",
      "metadata": {
        "id": "4zSA9_KCQ47W"
      },
      "source": [
        "# load saved model back to the environment\n",
        "from pyspark.ml.classification import LogisticRegressionModel\n",
        "model = LogisticRegressionModel.load('model')"
      ],
      "execution_count": 46,
      "outputs": []
    },
    {
      "cell_type": "code",
      "metadata": {
        "id": "MBq2hq27RdHB"
      },
      "source": [
        "#create a new spark dataframe\n",
        "test_df = spark.read.csv('/content/diabetes_dataset/new_test.csv',header=True, inferSchema =True)"
      ],
      "execution_count": 50,
      "outputs": []
    },
    {
      "cell_type": "code",
      "metadata": {
        "id": "co8K0NZsRdQB",
        "colab": {
          "base_uri": "https://localhost:8080/"
        },
        "outputId": "55521720-24f3-4d59-98e1-3daf35a0b088"
      },
      "source": [
        "#print the schema\n",
        "test_df.printSchema()"
      ],
      "execution_count": 51,
      "outputs": [
        {
          "output_type": "stream",
          "name": "stdout",
          "text": [
            "root\n",
            " |-- Pregnancies: integer (nullable = true)\n",
            " |-- Glucose: integer (nullable = true)\n",
            " |-- BloodPressure: integer (nullable = true)\n",
            " |-- SkinThickness: integer (nullable = true)\n",
            " |-- Insulin: integer (nullable = true)\n",
            " |-- BMI: double (nullable = true)\n",
            " |-- DiabetesPedigreeFunction: double (nullable = true)\n",
            " |-- Age: integer (nullable = true)\n",
            "\n"
          ]
        }
      ]
    },
    {
      "cell_type": "code",
      "metadata": {
        "id": "J7jtGf4lRdaz"
      },
      "source": [
        "#create an additional feature merged column \n",
        "test_data = assembler.transform(test_df)"
      ],
      "execution_count": 52,
      "outputs": []
    },
    {
      "cell_type": "code",
      "metadata": {
        "id": "kd1glzOnRdkq",
        "colab": {
          "base_uri": "https://localhost:8080/"
        },
        "outputId": "a28ee79e-0fb7-4499-f0a2-bb1e88c839cd"
      },
      "source": [
        "#print the schema\n",
        "test_data.printSchema()"
      ],
      "execution_count": 53,
      "outputs": [
        {
          "output_type": "stream",
          "name": "stdout",
          "text": [
            "root\n",
            " |-- Pregnancies: integer (nullable = true)\n",
            " |-- Glucose: integer (nullable = true)\n",
            " |-- BloodPressure: integer (nullable = true)\n",
            " |-- SkinThickness: integer (nullable = true)\n",
            " |-- Insulin: integer (nullable = true)\n",
            " |-- BMI: double (nullable = true)\n",
            " |-- DiabetesPedigreeFunction: double (nullable = true)\n",
            " |-- Age: integer (nullable = true)\n",
            " |-- features: vector (nullable = true)\n",
            "\n"
          ]
        }
      ]
    },
    {
      "cell_type": "code",
      "metadata": {
        "id": "40Dck7K_Rdxh",
        "colab": {
          "base_uri": "https://localhost:8080/"
        },
        "outputId": "a4262484-17b9-49e1-a3dd-1c4154c17775"
      },
      "source": [
        "#use model to make predictions\n",
        "results = model.transform(test_data)\n",
        "results.printSchema()"
      ],
      "execution_count": 56,
      "outputs": [
        {
          "output_type": "stream",
          "name": "stdout",
          "text": [
            "root\n",
            " |-- Pregnancies: integer (nullable = true)\n",
            " |-- Glucose: integer (nullable = true)\n",
            " |-- BloodPressure: integer (nullable = true)\n",
            " |-- SkinThickness: integer (nullable = true)\n",
            " |-- Insulin: integer (nullable = true)\n",
            " |-- BMI: double (nullable = true)\n",
            " |-- DiabetesPedigreeFunction: double (nullable = true)\n",
            " |-- Age: integer (nullable = true)\n",
            " |-- features: vector (nullable = true)\n",
            " |-- rawPrediction: vector (nullable = true)\n",
            " |-- probability: vector (nullable = true)\n",
            " |-- prediction: double (nullable = false)\n",
            "\n"
          ]
        }
      ]
    },
    {
      "cell_type": "code",
      "metadata": {
        "id": "AHpfS2SjRd7s",
        "colab": {
          "base_uri": "https://localhost:8080/"
        },
        "outputId": "b94940b1-4b13-4a59-cc0e-e031397e8240"
      },
      "source": [
        "#display the predictions\n",
        "results.select('features','prediction').show()"
      ],
      "execution_count": 57,
      "outputs": [
        {
          "output_type": "stream",
          "name": "stdout",
          "text": [
            "+--------------------+----------+\n",
            "|            features|prediction|\n",
            "+--------------------+----------+\n",
            "|[1.0,190.0,78.0,3...|       1.0|\n",
            "|[0.0,80.0,84.0,36...|       0.0|\n",
            "|[2.0,138.0,82.0,4...|       1.0|\n",
            "|[1.0,110.0,63.0,4...|       1.0|\n",
            "+--------------------+----------+\n",
            "\n"
          ]
        }
      ]
    }
  ]
}